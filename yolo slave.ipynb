{
  "nbformat": 4,
  "nbformat_minor": 0,
  "metadata": {
    "accelerator": "GPU",
    "anaconda-cloud": {},
    "colab": {
      "name": "yolo slave.ipynb",
      "provenance": [],
      "collapsed_sections": []
    },
    "kernelspec": {
      "display_name": "Python 3",
      "language": "python",
      "name": "python3"
    },
    "language_info": {
      "codemirror_mode": {
        "name": "ipython",
        "version": 3
      },
      "file_extension": ".py",
      "mimetype": "text/x-python",
      "name": "python",
      "nbconvert_exporter": "python",
      "pygments_lexer": "ipython3",
      "version": "3.7.4"
    }
  },
  "cells": [
    {
      "cell_type": "markdown",
      "metadata": {
        "id": "J1EzGUnhhJ4o",
        "colab_type": "text"
      },
      "source": [
        "# **Run from Google using Colab**"
      ]
    },
    {
      "cell_type": "markdown",
      "metadata": {
        "colab_type": "text",
        "id": "Zptine2DhG3M"
      },
      "source": [
        "### Installing YoloV3-TF2\n",
        "\n",
        "The following code is taken from the module, it installs YoLoV3-TF2 if not already installed."
      ]
    },
    {
      "cell_type": "code",
      "metadata": {
        "id": "VzWiSRDObe5T",
        "colab_type": "code",
        "colab": {
          "base_uri": "https://localhost:8080/",
          "height": 52
        },
        "outputId": "0970ac95-370b-4339-9317-1ecd18311697"
      },
      "source": [
        "try:\n",
        "    from google.colab import drive\n",
        "    drive.mount('/content/drive', force_remount=True)\n",
        "    COLAB = True\n",
        "    print(\"Note: using Google CoLab\")\n",
        "    %tensorflow_version 2.x\n",
        "except:\n",
        "    print(\"Note: not using Google CoLab\")\n",
        "    COLAB = False\n",
        "\n",
        "# Nicely formatted time string\n",
        "def hms_string(sec_elapsed):\n",
        "    h = int(sec_elapsed / (60 * 60))\n",
        "    m = int((sec_elapsed % (60 * 60)) / 60)\n",
        "    s = sec_elapsed % 60\n",
        "    return f\"{h}:{m:>02}:{s:>05.2f}\""
      ],
      "execution_count": 1,
      "outputs": [
        {
          "output_type": "stream",
          "text": [
            "Mounted at /content/drive\n",
            "Note: using Google CoLab\n"
          ],
          "name": "stdout"
        }
      ]
    },
    {
      "cell_type": "code",
      "metadata": {
        "colab_type": "code",
        "id": "5NS7Nr-zhG3O",
        "outputId": "9ab05cc2-2637-420b-cad3-13b37a549b20",
        "colab": {
          "base_uri": "https://localhost:8080/",
          "height": 175
        }
      },
      "source": [
        "import sys\n",
        "\n",
        "!{sys.executable} -m pip install git+https://github.com/zzh8829/yolov3-tf2.git@master"
      ],
      "execution_count": 2,
      "outputs": [
        {
          "output_type": "stream",
          "text": [
            "Collecting git+https://github.com/zzh8829/yolov3-tf2.git@master\n",
            "  Cloning https://github.com/zzh8829/yolov3-tf2.git (to revision master) to /tmp/pip-req-build-kfa7wkh3\n",
            "  Running command git clone -q https://github.com/zzh8829/yolov3-tf2.git /tmp/pip-req-build-kfa7wkh3\n",
            "Requirement already satisfied (use --upgrade to upgrade): yolov3-tf2==0.1 from git+https://github.com/zzh8829/yolov3-tf2.git@master in /usr/local/lib/python3.6/dist-packages\n",
            "Building wheels for collected packages: yolov3-tf2\n",
            "  Building wheel for yolov3-tf2 (setup.py) ... \u001b[?25l\u001b[?25hdone\n",
            "  Created wheel for yolov3-tf2: filename=yolov3_tf2-0.1-cp36-none-any.whl size=9219 sha256=ddcdd4149e6666025f124c7a3b942699a076e6d8e38c3f0d011f51a77136c08d\n",
            "  Stored in directory: /tmp/pip-ephem-wheel-cache-8oypff9t/wheels/59/1b/97/905ab51e9c0330efe8c3c518aff17de4ee91100412cd6dd553\n",
            "Successfully built yolov3-tf2\n"
          ],
          "name": "stdout"
        }
      ]
    },
    {
      "cell_type": "markdown",
      "metadata": {
        "colab_type": "text",
        "id": "PFO_9LFVhG3R"
      },
      "source": [
        "The following code is taken from the module, it downloads needed files for YoLoV3-TF2."
      ]
    },
    {
      "cell_type": "code",
      "metadata": {
        "id": "qHuluNgmbe5e",
        "colab_type": "code",
        "colab": {
          "base_uri": "https://localhost:8080/",
          "height": 35
        },
        "outputId": "ffb3f190-8ae7-4d52-942c-f12f23db64d6"
      },
      "source": [
        "import os\n",
        "if COLAB:\n",
        "  ROOT = '/content/drive/My Drive/Colab Notebooks/yolo'\n",
        "else:\n",
        "  ROOT = os.path.join(os.getcwd(),'data')\n",
        "\n",
        "ROOT"
      ],
      "execution_count": 3,
      "outputs": [
        {
          "output_type": "execute_result",
          "data": {
            "text/plain": [
              "'/content/drive/My Drive/Colab Notebooks/yolo'"
            ]
          },
          "metadata": {
            "tags": []
          },
          "execution_count": 3
        }
      ]
    },
    {
      "cell_type": "code",
      "metadata": {
        "colab_type": "code",
        "id": "x3BL7EZGhG3S",
        "colab": {}
      },
      "source": [
        "import tensorflow as tf\n",
        "import os\n",
        "\n",
        "if COLAB:\n",
        "  ROOT = '/content/drive/My Drive/Colab Notebooks/yolo'\n",
        "else:\n",
        "  ROOT = os.path.join(os.getcwd(),'data')\n",
        "\n",
        "filename_darknet_weights = tf.keras.utils.get_file(\n",
        "    os.path.join(ROOT,'yolov3.weights'),\n",
        "    origin='https://pjreddie.com/media/files/yolov3.weights')\n",
        "TINY = False\n",
        "\n",
        "filename_convert_script = tf.keras.utils.get_file(\n",
        "    os.path.join(os.getcwd(),'convert.py'),\n",
        "    origin='https://raw.githubusercontent.com/zzh8829/yolov3-tf2/master/convert.py')\n",
        "\n",
        "filename_classes = tf.keras.utils.get_file(\n",
        "    os.path.join(ROOT,'coco.names'),\n",
        "    origin='https://raw.githubusercontent.com/zzh8829/yolov3-tf2/master/data/coco.names')\n",
        "filename_converted_weights = os.path.join(ROOT,'yolov3.tf')"
      ],
      "execution_count": 0,
      "outputs": []
    },
    {
      "cell_type": "code",
      "metadata": {
        "id": "dT_haLt6gqV7",
        "colab_type": "code",
        "colab": {
          "base_uri": "https://localhost:8080/",
          "height": 1000
        },
        "outputId": "39d55884-472e-4882-9c51-7988a6674428"
      },
      "source": [
        "import sys\n",
        "!{sys.executable} \"{filename_convert_script}\" --weights \"{filename_darknet_weights}\" --output \"{filename_converted_weights}\""
      ],
      "execution_count": 5,
      "outputs": [
        {
          "output_type": "stream",
          "text": [
            "2020-04-10 05:34:23.207372: W tensorflow/core/common_runtime/gpu/gpu_bfc_allocator.cc:39] Overriding allow_growth setting because the TF_FORCE_GPU_ALLOW_GROWTH environment variable is set. Original config value was 0.\n",
            "Model: \"yolov3\"\n",
            "__________________________________________________________________________________________________\n",
            "Layer (type)                    Output Shape         Param #     Connected to                     \n",
            "==================================================================================================\n",
            "input (InputLayer)              [(None, None, None,  0                                            \n",
            "__________________________________________________________________________________________________\n",
            "yolo_darknet (Model)            ((None, None, None,  40620640    input[0][0]                      \n",
            "__________________________________________________________________________________________________\n",
            "yolo_conv_0 (Model)             (None, None, None, 5 11024384    yolo_darknet[1][2]               \n",
            "__________________________________________________________________________________________________\n",
            "yolo_conv_1 (Model)             (None, None, None, 2 2957312     yolo_conv_0[1][0]                \n",
            "                                                                 yolo_darknet[1][1]               \n",
            "__________________________________________________________________________________________________\n",
            "yolo_conv_2 (Model)             (None, None, None, 1 741376      yolo_conv_1[1][0]                \n",
            "                                                                 yolo_darknet[1][0]               \n",
            "__________________________________________________________________________________________________\n",
            "yolo_output_0 (Model)           (None, None, None, 3 4984063     yolo_conv_0[1][0]                \n",
            "__________________________________________________________________________________________________\n",
            "yolo_output_1 (Model)           (None, None, None, 3 1312511     yolo_conv_1[1][0]                \n",
            "__________________________________________________________________________________________________\n",
            "yolo_output_2 (Model)           (None, None, None, 3 361471      yolo_conv_2[1][0]                \n",
            "__________________________________________________________________________________________________\n",
            "yolo_boxes_0 (Lambda)           ((None, None, None,  0           yolo_output_0[1][0]              \n",
            "__________________________________________________________________________________________________\n",
            "yolo_boxes_1 (Lambda)           ((None, None, None,  0           yolo_output_1[1][0]              \n",
            "__________________________________________________________________________________________________\n",
            "yolo_boxes_2 (Lambda)           ((None, None, None,  0           yolo_output_2[1][0]              \n",
            "__________________________________________________________________________________________________\n",
            "yolo_nms (Lambda)               ((None, 100, 4), (No 0           yolo_boxes_0[0][0]               \n",
            "                                                                 yolo_boxes_0[0][1]               \n",
            "                                                                 yolo_boxes_0[0][2]               \n",
            "                                                                 yolo_boxes_1[0][0]               \n",
            "                                                                 yolo_boxes_1[0][1]               \n",
            "                                                                 yolo_boxes_1[0][2]               \n",
            "                                                                 yolo_boxes_2[0][0]               \n",
            "                                                                 yolo_boxes_2[0][1]               \n",
            "                                                                 yolo_boxes_2[0][2]               \n",
            "==================================================================================================\n",
            "Total params: 62,001,757\n",
            "Trainable params: 61,949,149\n",
            "Non-trainable params: 52,608\n",
            "__________________________________________________________________________________________________\n",
            "I0410 05:34:28.621846 139843825444736 convert.py:19] model created\n",
            "I0410 05:34:28.624947 139843825444736 utils.py:45] yolo_darknet/conv2d bn\n",
            "I0410 05:34:28.629054 139843825444736 utils.py:45] yolo_darknet/conv2d_1 bn\n",
            "I0410 05:34:28.632735 139843825444736 utils.py:45] yolo_darknet/conv2d_2 bn\n",
            "I0410 05:34:28.635525 139843825444736 utils.py:45] yolo_darknet/conv2d_3 bn\n",
            "I0410 05:34:28.638471 139843825444736 utils.py:45] yolo_darknet/conv2d_4 bn\n",
            "I0410 05:34:28.642050 139843825444736 utils.py:45] yolo_darknet/conv2d_5 bn\n",
            "I0410 05:34:28.644874 139843825444736 utils.py:45] yolo_darknet/conv2d_6 bn\n",
            "I0410 05:34:28.648344 139843825444736 utils.py:45] yolo_darknet/conv2d_7 bn\n",
            "I0410 05:34:28.651268 139843825444736 utils.py:45] yolo_darknet/conv2d_8 bn\n",
            "I0410 05:34:28.654569 139843825444736 utils.py:45] yolo_darknet/conv2d_9 bn\n",
            "I0410 05:34:28.660655 139843825444736 utils.py:45] yolo_darknet/conv2d_10 bn\n",
            "I0410 05:34:28.664851 139843825444736 utils.py:45] yolo_darknet/conv2d_11 bn\n",
            "I0410 05:34:28.671843 139843825444736 utils.py:45] yolo_darknet/conv2d_12 bn\n",
            "I0410 05:34:28.675769 139843825444736 utils.py:45] yolo_darknet/conv2d_13 bn\n",
            "I0410 05:34:28.680628 139843825444736 utils.py:45] yolo_darknet/conv2d_14 bn\n",
            "I0410 05:34:28.683490 139843825444736 utils.py:45] yolo_darknet/conv2d_15 bn\n",
            "I0410 05:34:28.688252 139843825444736 utils.py:45] yolo_darknet/conv2d_16 bn\n",
            "I0410 05:34:28.691270 139843825444736 utils.py:45] yolo_darknet/conv2d_17 bn\n",
            "I0410 05:34:28.695926 139843825444736 utils.py:45] yolo_darknet/conv2d_18 bn\n",
            "I0410 05:34:28.698948 139843825444736 utils.py:45] yolo_darknet/conv2d_19 bn\n",
            "I0410 05:34:28.703821 139843825444736 utils.py:45] yolo_darknet/conv2d_20 bn\n",
            "I0410 05:34:28.706813 139843825444736 utils.py:45] yolo_darknet/conv2d_21 bn\n",
            "I0410 05:34:28.711872 139843825444736 utils.py:45] yolo_darknet/conv2d_22 bn\n",
            "I0410 05:34:28.714826 139843825444736 utils.py:45] yolo_darknet/conv2d_23 bn\n",
            "I0410 05:34:28.719631 139843825444736 utils.py:45] yolo_darknet/conv2d_24 bn\n",
            "I0410 05:34:28.723700 139843825444736 utils.py:45] yolo_darknet/conv2d_25 bn\n",
            "I0410 05:34:28.730067 139843825444736 utils.py:45] yolo_darknet/conv2d_26 bn\n",
            "I0410 05:34:28.746538 139843825444736 utils.py:45] yolo_darknet/conv2d_27 bn\n",
            "I0410 05:34:28.750250 139843825444736 utils.py:45] yolo_darknet/conv2d_28 bn\n",
            "I0410 05:34:28.761622 139843825444736 utils.py:45] yolo_darknet/conv2d_29 bn\n",
            "I0410 05:34:28.765670 139843825444736 utils.py:45] yolo_darknet/conv2d_30 bn\n",
            "I0410 05:34:28.777489 139843825444736 utils.py:45] yolo_darknet/conv2d_31 bn\n",
            "I0410 05:34:28.781439 139843825444736 utils.py:45] yolo_darknet/conv2d_32 bn\n",
            "I0410 05:34:28.792691 139843825444736 utils.py:45] yolo_darknet/conv2d_33 bn\n",
            "I0410 05:34:28.796345 139843825444736 utils.py:45] yolo_darknet/conv2d_34 bn\n",
            "I0410 05:34:28.808353 139843825444736 utils.py:45] yolo_darknet/conv2d_35 bn\n",
            "I0410 05:34:28.812133 139843825444736 utils.py:45] yolo_darknet/conv2d_36 bn\n",
            "I0410 05:34:28.823473 139843825444736 utils.py:45] yolo_darknet/conv2d_37 bn\n",
            "I0410 05:34:28.827248 139843825444736 utils.py:45] yolo_darknet/conv2d_38 bn\n",
            "I0410 05:34:28.845237 139843825444736 utils.py:45] yolo_darknet/conv2d_39 bn\n",
            "I0410 05:34:28.849089 139843825444736 utils.py:45] yolo_darknet/conv2d_40 bn\n",
            "I0410 05:34:28.860469 139843825444736 utils.py:45] yolo_darknet/conv2d_41 bn\n",
            "I0410 05:34:28.864293 139843825444736 utils.py:45] yolo_darknet/conv2d_42 bn\n",
            "I0410 05:34:28.876162 139843825444736 utils.py:45] yolo_darknet/conv2d_43 bn\n",
            "I0410 05:34:28.927812 139843825444736 utils.py:45] yolo_darknet/conv2d_44 bn\n",
            "I0410 05:34:28.937071 139843825444736 utils.py:45] yolo_darknet/conv2d_45 bn\n",
            "I0410 05:34:28.985251 139843825444736 utils.py:45] yolo_darknet/conv2d_46 bn\n",
            "I0410 05:34:28.993666 139843825444736 utils.py:45] yolo_darknet/conv2d_47 bn\n",
            "I0410 05:34:29.041853 139843825444736 utils.py:45] yolo_darknet/conv2d_48 bn\n",
            "I0410 05:34:29.050303 139843825444736 utils.py:45] yolo_darknet/conv2d_49 bn\n",
            "I0410 05:34:29.095568 139843825444736 utils.py:45] yolo_darknet/conv2d_50 bn\n",
            "I0410 05:34:29.103918 139843825444736 utils.py:45] yolo_darknet/conv2d_51 bn\n",
            "I0410 05:34:29.149571 139843825444736 utils.py:45] yolo_conv_0/conv2d_52 bn\n",
            "I0410 05:34:29.157267 139843825444736 utils.py:45] yolo_conv_0/conv2d_53 bn\n",
            "I0410 05:34:29.203641 139843825444736 utils.py:45] yolo_conv_0/conv2d_54 bn\n",
            "I0410 05:34:29.212213 139843825444736 utils.py:45] yolo_conv_0/conv2d_55 bn\n",
            "I0410 05:34:29.260731 139843825444736 utils.py:45] yolo_conv_0/conv2d_56 bn\n",
            "I0410 05:34:29.267835 139843825444736 utils.py:45] yolo_output_0/conv2d_57 bn\n",
            "I0410 05:34:29.313548 139843825444736 utils.py:45] yolo_output_0/conv2d_58 bias\n",
            "I0410 05:34:29.317207 139843825444736 utils.py:45] yolo_conv_1/conv2d_59 bn\n",
            "I0410 05:34:29.320211 139843825444736 utils.py:45] yolo_conv_1/conv2d_60 bn\n",
            "I0410 05:34:29.323848 139843825444736 utils.py:45] yolo_conv_1/conv2d_61 bn\n",
            "I0410 05:34:29.337661 139843825444736 utils.py:45] yolo_conv_1/conv2d_62 bn\n",
            "I0410 05:34:29.340612 139843825444736 utils.py:45] yolo_conv_1/conv2d_63 bn\n",
            "I0410 05:34:29.350665 139843825444736 utils.py:45] yolo_conv_1/conv2d_64 bn\n",
            "I0410 05:34:29.353731 139843825444736 utils.py:45] yolo_output_1/conv2d_65 bn\n",
            "I0410 05:34:29.363859 139843825444736 utils.py:45] yolo_output_1/conv2d_66 bias\n",
            "I0410 05:34:29.366084 139843825444736 utils.py:45] yolo_conv_2/conv2d_67 bn\n",
            "I0410 05:34:29.368256 139843825444736 utils.py:45] yolo_conv_2/conv2d_68 bn\n",
            "I0410 05:34:29.370465 139843825444736 utils.py:45] yolo_conv_2/conv2d_69 bn\n",
            "I0410 05:34:29.374515 139843825444736 utils.py:45] yolo_conv_2/conv2d_70 bn\n",
            "I0410 05:34:29.376736 139843825444736 utils.py:45] yolo_conv_2/conv2d_71 bn\n",
            "I0410 05:34:29.380928 139843825444736 utils.py:45] yolo_conv_2/conv2d_72 bn\n",
            "I0410 05:34:29.382991 139843825444736 utils.py:45] yolo_output_2/conv2d_73 bn\n",
            "I0410 05:34:29.386875 139843825444736 utils.py:45] yolo_output_2/conv2d_74 bias\n",
            "I0410 05:34:29.389090 139843825444736 convert.py:22] weights loaded\n",
            "I0410 05:34:31.366575 139843825444736 convert.py:26] sanity check passed\n",
            "I0410 05:34:32.501610 139843825444736 convert.py:29] weights saved\n"
          ],
          "name": "stdout"
        }
      ]
    },
    {
      "cell_type": "markdown",
      "metadata": {
        "id": "F1RTHy8rhf_f",
        "colab_type": "text"
      },
      "source": [
        "# Now we have used Colab's GPU to transfer weights, we can take the files to local PC (as cloud server has no concept of \"desktop\"). Below is my folder structure\n",
        "\n",
        "Under yolo-slave (folder)\n",
        "*   yolo slave.ipynb\n",
        "*   convert.py\n",
        "*   data (folder)\n",
        "\n",
        "Under data (folder)\n",
        "*   coco.names\n",
        "*   yolov3.weights\n",
        "*   yolov3.tf.index\n",
        "*   yolov3.tf.data-00000-of-00002\n",
        "*   yolov3.tf.data-00001-of-00002"
      ]
    },
    {
      "cell_type": "markdown",
      "metadata": {
        "colab_type": "text",
        "id": "luhqeY9ihG3n"
      },
      "source": [
        "# Starter Code"
      ]
    },
    {
      "cell_type": "code",
      "metadata": {
        "colab_type": "code",
        "id": "POfN7dcshG3o",
        "colab": {}
      },
      "source": [
        "import time\n",
        "from absl import app, flags, logging\n",
        "from absl.flags import FLAGS\n",
        "import cv2\n",
        "import numpy as np\n",
        "import tensorflow as tf\n",
        "from yolov3_tf2.models import (YoloV3, YoloV3Tiny)\n",
        "from yolov3_tf2.dataset import transform_images, load_tfrecord_dataset\n",
        "from yolov3_tf2.utils import draw_outputs\n",
        "import sys\n",
        "from PIL import Image, ImageFile\n",
        "import requests\n",
        "\n",
        "# Flags are used to define several options for YOLO.\n",
        "flags.DEFINE_string('classes', filename_classes, 'path to classes file')\n",
        "flags.DEFINE_string('weights', filename_converted_weights, 'path to weights file')\n",
        "flags.DEFINE_boolean('tiny', False, 'yolov3 or yolov3-tiny')\n",
        "flags.DEFINE_integer('size', 416, 'resize images to')\n",
        "flags.DEFINE_string('tfrecord', None, 'tfrecord instead of image')\n",
        "flags.DEFINE_integer('num_classes', 80, 'number of classes in the model')\n",
        "FLAGS([sys.argv[0]])\n",
        "\n",
        "# Locate devices to run YOLO on (e.g. GPU)\n",
        "physical_devices = tf.config.experimental.list_physical_devices('GPU')\n",
        "if len(physical_devices) > 0:\n",
        "    tf.config.experimental.set_memory_growth(physical_devices[0], True)"
      ],
      "execution_count": 0,
      "outputs": []
    },
    {
      "cell_type": "code",
      "metadata": {
        "colab_type": "code",
        "id": "GEHhNyIahG3s",
        "outputId": "0a4d8d8a-21da-4cfb-ab5f-6b1fc0472f4b",
        "colab": {
          "base_uri": "https://localhost:8080/",
          "height": 52
        }
      },
      "source": [
        "# This assignment does not use the \"Tiny version\"\n",
        "if FLAGS.tiny:\n",
        "    yolo = YoloV3Tiny(classes=FLAGS.num_classes)\n",
        "else:\n",
        "    yolo = YoloV3(classes=FLAGS.num_classes)\n",
        "\n",
        "# Load weights and classes\n",
        "yolo.load_weights(FLAGS.weights).expect_partial()\n",
        "print('weights loaded')\n",
        "\n",
        "class_names = [c.strip() for c in open(FLAGS.classes).readlines()]\n",
        "print('classes loaded')"
      ],
      "execution_count": 7,
      "outputs": [
        {
          "output_type": "stream",
          "text": [
            "weights loaded\n",
            "classes loaded\n"
          ],
          "name": "stdout"
        }
      ]
    },
    {
      "cell_type": "code",
      "metadata": {
        "colab_type": "code",
        "id": "d6j1bYsccalc",
        "colab": {}
      },
      "source": [
        "import numpy as np\n",
        "import cv2\n",
        "from PIL import ImageGrab\n",
        "import pyautogui\n",
        "import time"
      ],
      "execution_count": 0,
      "outputs": []
    },
    {
      "cell_type": "code",
      "metadata": {
        "id": "BFbWt9HBbe5y",
        "colab_type": "code",
        "colab": {}
      },
      "source": [
        "while True:\n",
        "    img_np=np.array(ImageGrab.grab(bbox=(0,0,1920,1080)))\n",
        "    img_np=cv2.cvtColor(img_np, cv2.COLOR_BGR2RGB)\n",
        "    img_raw=tf.convert_to_tensor(img_np, np.uint8)\n",
        "\n",
        "#     img_raw = tf.image.decode_image(img_tensor, channels=3)\n",
        "    \n",
        "    # Preprocess image\n",
        "    img = tf.expand_dims(img_raw, 0)\n",
        "    img = transform_images(img, FLAGS.size)\n",
        "    \n",
        "    # Desired threshold (any sub-image below this confidence level will be ignored.)\n",
        "    FLAGS.yolo_score_threshold = 0.2\n",
        "\n",
        "    # Recognize and report results\n",
        "    boxes, scores, classes, nums = yolo(img)\n",
        "\n",
        "    # Display image using YOLO library's built in function\n",
        "    img = img_raw.numpy()\n",
        "    img = draw_outputs(img, (boxes, scores, classes, nums), class_names)\n",
        "    #cv2.imwrite(FLAGS.output, img) # Save the image\n",
        "#     display(Image.fromarray(img, 'RGB')) # Display the image\n",
        "\n",
        "    items = []\n",
        "    # print('detections:')\n",
        "    for j in range(nums[0]):\n",
        "        cls = class_names[int(classes[0][j])]\n",
        "        score = np.array(scores[0][j])\n",
        "        box = np.array(boxes[0][j])\n",
        "        items.append(cls)\n",
        "    \n",
        "    cv2.imshow('img1_bg',img)\n",
        "    \n",
        "    if cv2.waitKey(1) & 0xFF == ord('q'):\n",
        "        break\n",
        "        \n",
        "cv2.destroyAllWindows()"
      ],
      "execution_count": 0,
      "outputs": []
    },
    {
      "cell_type": "code",
      "metadata": {
        "id": "2ybagnL3be50",
        "colab_type": "code",
        "colab": {}
      },
      "source": [
        ""
      ],
      "execution_count": 0,
      "outputs": []
    },
    {
      "cell_type": "code",
      "metadata": {
        "id": "4YmfW7fFbe53",
        "colab_type": "code",
        "colab": {}
      },
      "source": [
        ""
      ],
      "execution_count": 0,
      "outputs": []
    }
  ]
}